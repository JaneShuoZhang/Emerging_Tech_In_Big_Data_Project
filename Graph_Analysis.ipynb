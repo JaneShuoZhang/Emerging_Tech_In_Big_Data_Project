{
 "cells": [
  {
   "cell_type": "code",
   "execution_count": 5,
   "metadata": {},
   "outputs": [],
   "source": [
    "from functools import reduce\n",
    "from pyspark.sql.functions import col, lit, when, explode\n",
    "from graphframes import *\n",
    "from pyspark.sql import *\n",
    "import os"
   ]
  },
  {
   "cell_type": "code",
   "execution_count": 6,
   "metadata": {},
   "outputs": [],
   "source": [
    "school_name = \"Caltech36\"\n",
    "input_dir = \"/Users/shuozhang/Desktop/Big_Data_Technology/Emerging_Tech_In_Big_Data/Project/facebook_data/\"\n",
    "bio_file_name = school_name + \"_bio.csv\"\n",
    "friend_file_name = school_name + \"_friend.csv\"\n",
    "bio_file_path = os.path.join(input_dir, bio_file_name)\n",
    "friend_file_path = os.path.join(input_dir, friend_file_name)"
   ]
  },
  {
   "cell_type": "code",
   "execution_count": 7,
   "metadata": {},
   "outputs": [
    {
     "name": "stdout",
     "output_type": "stream",
     "text": [
      "GraphFrame(v:[id: string, student/faculty_status_flag: string ... 6 more fields], e:[src: string, dst: string ... 1 more field])\n"
     ]
    }
   ],
   "source": [
    "# create a graph\n",
    "vertices = spark.read.format(\"csv\").option(\"header\", \"true\").load(bio_file_path)\n",
    "edges = spark.read.format(\"csv\").option(\"header\", \"true\").load(friend_file_path)\n",
    "g = GraphFrame(vertices, edges)\n",
    "print(g)"
   ]
  },
  {
   "cell_type": "code",
   "execution_count": 8,
   "metadata": {},
   "outputs": [
    {
     "name": "stdout",
     "output_type": "stream",
     "text": [
      "+---+---------------------------+------+-----+-----+----------+----+-----------+\n",
      "| id|student/faculty_status_flag|gender|major|minor|dorm/house|year|high_school|\n",
      "+---+---------------------------+------+-----+-----+----------+----+-----------+\n",
      "|  0|                          1|     1|  199|    0|       169|2008|       3387|\n",
      "|  1|                          1|     1|  199|    0|       165|2006|       3172|\n",
      "|  2|                          1|     2|  201|    0|       171|2008|       9773|\n",
      "|  3|                          2|     2|  208|  210|       172|2005|      50578|\n",
      "|  4|                          1|     2|  202|    0|       169|2008|      11880|\n",
      "+---+---------------------------+------+-----+-----+----------+----+-----------+\n",
      "only showing top 5 rows\n",
      "\n",
      "+---+---+------------+\n",
      "|src|dst|relationship|\n",
      "+---+---+------------+\n",
      "|  0|  4|      friend|\n",
      "|  0| 30|      friend|\n",
      "|  0| 35|      friend|\n",
      "|  0| 38|      friend|\n",
      "|  0| 42|      friend|\n",
      "+---+---+------------+\n",
      "only showing top 5 rows\n",
      "\n"
     ]
    }
   ],
   "source": [
    "# display vertices and edges\n",
    "g.vertices.show(5)\n",
    "g.edges.show(5)"
   ]
  },
  {
   "cell_type": "code",
   "execution_count": 9,
   "metadata": {},
   "outputs": [
    {
     "name": "stdout",
     "output_type": "stream",
     "text": [
      "+---+--------+\n",
      "| id|inDegree|\n",
      "+---+--------+\n",
      "|675|      39|\n",
      "|691|      34|\n",
      "|467|      29|\n",
      "|296|       1|\n",
      "|125|      38|\n",
      "+---+--------+\n",
      "only showing top 5 rows\n",
      "\n",
      "+---+---------+\n",
      "| id|outDegree|\n",
      "+---+---------+\n",
      "|296|        1|\n",
      "|467|       29|\n",
      "|675|       39|\n",
      "|691|       34|\n",
      "|125|       38|\n",
      "+---+---------+\n",
      "only showing top 5 rows\n",
      "\n"
     ]
    }
   ],
   "source": [
    "# incoming and outgoing degree of edges\n",
    "g.inDegrees.show(5)\n",
    "g.outDegrees.show(5)"
   ]
  },
  {
   "cell_type": "markdown",
   "metadata": {},
   "source": [
    "## Use Case 1: Find Potential Friends"
   ]
  },
  {
   "cell_type": "markdown",
   "metadata": {},
   "source": [
    "Suppose I just enter Caltech, I want to find people with the same major and come from the same high school as me."
   ]
  },
  {
   "cell_type": "code",
   "execution_count": 11,
   "metadata": {},
   "outputs": [
    {
     "name": "stdout",
     "output_type": "stream",
     "text": [
      "+---+---------------------------+------+-----+-----+----------+----+-----------+\n",
      "| id|student/faculty_status_flag|gender|major|minor|dorm/house|year|high_school|\n",
      "+---+---------------------------+------+-----+-----+----------+----+-----------+\n",
      "| 10|                          1|     2|  199|    0|       167|2006|          0|\n",
      "| 23|                          1|     1|  199|    0|       165|2007|          0|\n",
      "|133|                          5|     2|  199|    0|         0|2006|          0|\n",
      "|298|                          2|     2|  199|    0|         0|2005|          0|\n",
      "|308|                          1|     1|  199|  202|       168|2007|          0|\n",
      "|312|                          2|     1|  199|    0|       168|2004|          0|\n",
      "|442|                          1|     2|  199|  200|       168|2005|          0|\n",
      "|473|                          5|     1|  199|    0|         0|   0|          0|\n",
      "|517|                          1|     1|  199|    0|       165|2006|          0|\n",
      "|609|                          1|     1|  199|    0|       167|2008|          0|\n",
      "|617|                          1|     1|  199|    0|       172|2006|          0|\n",
      "+---+---------------------------+------+-----+-----+----------+----+-----------+\n",
      "\n"
     ]
    }
   ],
   "source": [
    "potential_friends = g.vertices.filter(\"major = '199'\").filter(\"high_school = '0'\")\n",
    "potential_friends.show()"
   ]
  },
  {
   "cell_type": "markdown",
   "metadata": {},
   "source": [
    "## Use Case 2: Connection Distance Calculation"
   ]
  },
  {
   "cell_type": "markdown",
   "metadata": {},
   "source": [
    "Silimar to LinkedIn, we can find two people are direct friend (+1 degree), have a mutual friend (+2 degree), or what is the shortest friend path connecting these two people."
   ]
  },
  {
   "cell_type": "code",
   "execution_count": 35,
   "metadata": {},
   "outputs": [
    {
     "name": "stdout",
     "output_type": "stream",
     "text": [
      "+---+---+-----+\n",
      "| id|key|value|\n",
      "+---+---+-----+\n",
      "| 10| 10|    0|\n",
      "|663| 10|    1|\n",
      "|341| 10|    1|\n",
      "|637| 10|    2|\n",
      "|267| 10|    2|\n",
      "|614| 10|    2|\n",
      "|766| 10|    2|\n",
      "|382| 10|    2|\n",
      "|322| 10|    2|\n",
      "|595| 10|    2|\n",
      "| 35| 10|    2|\n",
      "|256| 10|    2|\n",
      "|658| 10|    2|\n",
      "|125| 10|    2|\n",
      "|688| 10|    2|\n",
      "|475| 10|    2|\n",
      "|390| 10|    2|\n",
      "|510| 10|    2|\n",
      "|274| 10|    2|\n",
      "|694| 10|    2|\n",
      "+---+---+-----+\n",
      "only showing top 20 rows\n",
      "\n"
     ]
    }
   ],
   "source": [
    "results = g.shortestPaths(landmarks=[\"10\"])\n",
    "results.select(\"id\", explode(\"distances\")).sort('value', ascending=True).show()"
   ]
  },
  {
   "cell_type": "markdown",
   "metadata": {},
   "source": [
    "## Use Case 3: Find Most Popular People in School"
   ]
  },
  {
   "cell_type": "code",
   "execution_count": 30,
   "metadata": {},
   "outputs": [
    {
     "name": "stdout",
     "output_type": "stream",
     "text": [
      "+---+---------------------------+------+-----+-----+----------+----+-----------+------------------+\n",
      "| id|student/faculty_status_flag|gender|major|minor|dorm/house|year|high_school|          pagerank|\n",
      "+---+---------------------------+------+-----+-----+----------+----+-----------+------------------+\n",
      "|708|                          2|     2|  223|    0|         0|2005|      19445| 4.992117377111114|\n",
      "|222|                          1|     1|  196|  228|       171|2008|       2395|  4.24784817339537|\n",
      "| 89|                          1|     1|  199|    0|       169|2006|       6895| 4.180237339503565|\n",
      "|277|                          1|     2|  222|  205|       170|2007|       4423|3.7835907220213256|\n",
      "|663|                          1|     1|  220|  225|       167|2006|       2868|3.6003923172675925|\n",
      "+---+---------------------------+------+-----+-----+----------+----+-----------+------------------+\n",
      "only showing top 5 rows\n",
      "\n"
     ]
    }
   ],
   "source": [
    "# PageRank\n",
    "g.pageRank(resetProbability=0.15, tol=0.01).vertices.sort('pagerank', ascending=False).show(5)"
   ]
  }
 ],
 "metadata": {
  "kernelspec": {
   "display_name": "Python 3",
   "language": "python",
   "name": "python3"
  },
  "language_info": {
   "codemirror_mode": {
    "name": "ipython",
    "version": 3
   },
   "file_extension": ".py",
   "mimetype": "text/x-python",
   "name": "python",
   "nbconvert_exporter": "python",
   "pygments_lexer": "ipython3",
   "version": "3.6.4"
  }
 },
 "nbformat": 4,
 "nbformat_minor": 2
}
